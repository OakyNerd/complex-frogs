{
 "cells": [
  {
   "cell_type": "code",
   "execution_count": 1,
   "metadata": {},
   "outputs": [],
   "source": [
    "import os\n",
    "import sys\n",
    "%load_ext autoreload\n",
    "#Now, you can turn on auto-reloading\n",
    "%autoreload 2\n",
    "#from google.colab import drive\n",
    "#drive.mount('/content/drive')\n",
    "path = 'c:/Users/emili/Documents/complex-frogs/cs3220_A5/cs3220_A5_tasks/src' #@param {type: \"string\"}\n",
    "sys.path.append(path)"
   ]
  },
  {
   "cell_type": "markdown",
   "metadata": {},
   "source": [
    "1."
   ]
  },
  {
   "cell_type": "code",
   "execution_count": null,
   "metadata": {},
   "outputs": [
    {
     "data": {
      "image/png": "[encoded data removed]",
      "text/plain": [
       "<Figure size 640x480 with 1 Axes>"
      ]
     },
     "metadata": {},
     "output_type": "display_data"
    },
    {
     "name": "stdout",
     "output_type": "stream",
     "text": [
      "6.08\n",
      "goal list: (np.int64(1), np.int64(6))\n",
      "[(6.083, <Node (0, 0)>)]\n",
      "The node (0, 0) is extracted from frontier:\n",
      "The child node <Node (1, 0)>.\n",
      "Nodes expanded: 1\n",
      "[(7.0, <Node (1, 0)>)]\n",
      "The node (1, 0) is extracted from frontier:\n",
      "Nodes expanded: 2\n",
      "[]\n"
     ]
    }
   ],
   "source": [
    "from mazeData import makeMaze\n",
    "n=10\n",
    "a=makeMaze(n)\n",
    "import matplotlib.pyplot as plt\n",
    "import matplotlib.patches as patches\n",
    "import seaborn as sns\n",
    "import numpy as np\n",
    "from matplotlib.colors import ListedColormap\n",
    "\n",
    "\n",
    "def draw_maze(maze):\n",
    "    fig, ax = plt.subplots()\n",
    "    colors = sns.color_palette('coolwarm', len(np.unique(maze)))\n",
    "    #print(colors)\n",
    "    cmap = ListedColormap(colors)\n",
    "    sns.heatmap(maze, cmap=cmap, annot=False, cbar=False)\n",
    "    for i in range(maze.shape[0]):\n",
    "      for j in range(maze.shape[1]):\n",
    "        rect=patches.Rectangle((j, i), 1, 1, fill=False, edgecolor='yellow', lw=2)\n",
    "        ax.add_patch(rect)\n",
    "        #plt.gca().add_patch(patches.Rectangle((j, i), 1, 1, fill=False, edgecolor='yellow', lw=2))\n",
    "        if i==0 and j==0:\n",
    "            rect=patches.Rectangle((j, i), 1, 1, fill=True, color='pink')\n",
    "            ax.add_patch(rect)\n",
    "        if i==maze.shape[0]-1 and j==maze.shape[1]-1:\n",
    "            rect=patches.Rectangle((j, i), 1, 1, fill=True, color='green')\n",
    "            ax.add_patch(rect)\n",
    "\n",
    "    plt.show()\n",
    "\n",
    "\n",
    "draw_maze(a)\n",
    "\n",
    "from mazeData import defineMazeAvailableActions\n",
    "from mazeData import makeMazeTransformationModel\n",
    "from mazeGraphClass import mazeGraph\n",
    "from mazeProblemClass import MazeProblem\n",
    "from mazeData import getFoodLocation\n",
    "from nodeClass import Node\n",
    "import math\n",
    "from agentsPrograms import A_StarSearchAgentProgram\n",
    "from agents import ProblemSolvingMazeAgentAStar\n",
    "\n",
    "mazeAvailableActs=defineMazeAvailableActions(a)\n",
    "maze=makeMazeTransformationModel(mazeAvailableActs)\n",
    "mazeWorldGraph=mazeGraph(maze)\n",
    "initState, goalState=(0,0),getFoodLocation(a)\n",
    "mp1=MazeProblem(initState,goalState,mazeWorldGraph)\n",
    "node = Node(mp1.initial)\n",
    "print(node.path_cost+round(math.dist(node.state, mp1.goal),2))\n",
    "f1=A_StarSearchAgentProgram(math.dist)\n",
    "AStar_MazeAgent=ProblemSolvingMazeAgentAStar(initState,mazeWorldGraph,goalState)"
   ]
  }
 ],
 "metadata": {
  "kernelspec": {
   "display_name": "Python 3",
   "language": "python",
   "name": "python3"
  },
  "language_info": {
   "codemirror_mode": {
    "name": "ipython",
    "version": 3
   },
   "file_extension": ".py",
   "mimetype": "text/x-python",
   "name": "python",
   "nbconvert_exporter": "python",
   "pygments_lexer": "ipython3",
   "version": "3.13.0"
  }
 },
 "nbformat": 4,
 "nbformat_minor": 2
}
