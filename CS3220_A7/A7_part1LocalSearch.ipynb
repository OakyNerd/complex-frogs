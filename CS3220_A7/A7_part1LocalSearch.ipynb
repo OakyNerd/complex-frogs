{
  "nbformat": 4,
  "nbformat_minor": 0,
  "metadata": {
    "colab": {
      "provenance": []
    },
    "kernelspec": {
      "name": "python3",
      "display_name": "Python 3"
    },
    "language_info": {
      "name": "python"
    }
  },
  "cells": [
    {
      "cell_type": "markdown",
      "source": [
        "# Assignment 7. Part 1: Local Search & CSPs"
      ],
      "metadata": {
        "id": "zaAhLyThakLW"
      }
    },
    {
      "cell_type": "markdown",
      "source": [
        "## Local Search Overview"
      ],
      "metadata": {
        "id": "d44hmBnobFEs"
      }
    },
    {
      "cell_type": "markdown",
      "source": [
        "The preceding algorithms systematically search the space of assignments of values to variables. If the space is finite, they will either find a solution or report that no solution exists.\n",
        "\n",
        "Unfortunately, many spaces are too big for systematic search and are possibly even infinite. In any reasonable time, systematic search will have failed to consider enough of the space to give any meaningful results."
      ],
      "metadata": {
        "id": "nJsDl52sbB3B"
      }
    },
    {
      "cell_type": "markdown",
      "source": [
        "**Local search methods** start with a total assignment of a value to each variable and try to improve this assignment iteratively by taking improving steps"
      ],
      "metadata": {
        "id": "K7xp8nPJbUY3"
      }
    },
    {
      "cell_type": "markdown",
      "source": [
        "***Iterative best improvement*** is a local search algorithm that selects a variable and value that most improves some `evaluation function`.\n",
        "\n",
        "If there are several possible successors that most improve the evaluation function, one is chosen at random.\n",
        "\n",
        "When the aim is to `minimize a function`, this algorithm is called **greedy descent**.\n",
        "\n",
        "When the aim is to `maximize a function`, this is called **hill climbing** or greedy ascent."
      ],
      "metadata": {
        "id": "PbzmpN3WbnuG"
      }
    },
    {
      "cell_type": "markdown",
      "source": [
        "Iterative best improvement requires a `way to evaluate each total assignment`.\n",
        "\n",
        "For constraint satisfaction problems, a common evaluation function is the `number of constraints that are violated`. A violated constraint is called a **conflict**.\n",
        "\n",
        "With the evaluation function being the number of conflicts, a solution is a total assignment with an evaluation of zero. Sometimes this evaluation function is refined by weighting some constraints more than others."
      ],
      "metadata": {
        "id": "POAwfo-eb_Q1"
      }
    },
    {
      "cell_type": "code",
      "execution_count": 1,
      "metadata": {
        "id": "cOX15OqL5hJ1"
      },
      "outputs": [],
      "source": [
        "import os\n",
        "import sys"
      ]
    },
    {
      "cell_type": "code",
      "source": [
        "%load_ext autoreload\n",
        "#Now, you can turn on auto-reloading\n",
        "%autoreload 2"
      ],
      "metadata": {
        "id": "1mLtTcfr5hJ1"
      },
      "execution_count": 2,
      "outputs": []
    },
    {
      "cell_type": "code",
      "source": [
        "from google.colab import drive\n",
        "drive.mount('/content/drive')"
      ],
      "metadata": {
        "colab": {
          "base_uri": "https://localhost:8080/"
        },
        "outputId": "96afeffd-7716-4356-b30e-b462c018d745",
        "id": "Fhr_TdPu5hJ1"
      },
      "execution_count": 3,
      "outputs": [
        {
          "output_type": "stream",
          "name": "stdout",
          "text": [
            "Mounted at /content/drive\n"
          ]
        }
      ]
    },
    {
      "cell_type": "code",
      "source": [
        "path = '/content/drive/MyDrive/Colab_Notebooks/cs3220_A7/src' #@param {type: \"string\"}\n",
        "sys.path.append(path)"
      ],
      "metadata": {
        "id": "4eeSHann5hJ2"
      },
      "execution_count": null,
      "outputs": []
    },
    {
      "cell_type": "markdown",
      "source": [
        "As stated above, the` min_conflicts algorithm` is an efficient method to solve such a problem.\n",
        "\n",
        "* In the start, all the variables of the CSP are randomly initialized.\n",
        "* The algorithm then randomly selects a variable that has conflicts and violates some constraints of the CSP.\n",
        "* The selected variable is then assigned a value that minimizes the number of conflicts.\n",
        "\n",
        "This is a simple stochastic algorithm which works on a principle similar to Hill-climbing.\n",
        "\n",
        "The conflicting state is repeatedly changed into a state with fewer conflicts in an attempt to reach an approximate solution."
      ],
      "metadata": {
        "id": "lFz9C50Zcfon"
      }
    },
    {
      "cell_type": "markdown",
      "source": [
        "## Min_conflicts algorithm example"
      ],
      "metadata": {
        "id": "xyKoc17ka67b"
      }
    },
    {
      "cell_type": "code",
      "source": [
        "from utils import parse_neighbors"
      ],
      "metadata": {
        "id": "o-aECenrC78o"
      },
      "execution_count": null,
      "outputs": []
    },
    {
      "cell_type": "code",
      "source": [
        "neighbors1 = parse_neighbors('X: Y; Y: Z')\n",
        "domains1 = {'X': [4,5,6,7], 'Y': [4,5,6,8,9], 'Z':[3,5,6,7,9]}\n",
        "constraints1 = lambda X, x, Y, y: x==y"
      ],
      "metadata": {
        "id": "EgnZiBDVC00j"
      },
      "execution_count": null,
      "outputs": []
    },
    {
      "cell_type": "code",
      "source": [
        "neighbors1"
      ],
      "metadata": {
        "colab": {
          "base_uri": "https://localhost:8080/"
        },
        "id": "RWeG5nk4C_Wo",
        "outputId": "4a32eac4-7b72-469d-aa8f-fb71926e52e7"
      },
      "execution_count": null,
      "outputs": [
        {
          "output_type": "execute_result",
          "data": {
            "text/plain": [
              "defaultdict(list, {'X': ['Y'], 'Y': ['X', 'Z'], 'Z': ['Y']})"
            ]
          },
          "metadata": {},
          "execution_count": 8
        }
      ]
    },
    {
      "cell_type": "code",
      "source": [
        "from CSPclass import CSP"
      ],
      "metadata": {
        "id": "81ENYNzJDGV2"
      },
      "execution_count": null,
      "outputs": []
    },
    {
      "cell_type": "code",
      "source": [
        "CSP1=CSP(variables=None,neighbors=neighbors1, domains=domains1, constraints=constraints1)"
      ],
      "metadata": {
        "id": "RrJhLb1cDJ9x"
      },
      "execution_count": null,
      "outputs": []
    },
    {
      "cell_type": "code",
      "source": [
        "from algorithms import min_conflicts"
      ],
      "metadata": {
        "id": "xITwFyvtEFs4"
      },
      "execution_count": null,
      "outputs": []
    },
    {
      "cell_type": "code",
      "source": [
        "solution1=min_conflicts(CSP1)"
      ],
      "metadata": {
        "colab": {
          "base_uri": "https://localhost:8080/"
        },
        "id": "4C0dJBttDb7j",
        "outputId": "a3592b4a-d491-41d5-bb83-d31256fb3319"
      },
      "execution_count": null,
      "outputs": [
        {
          "output_type": "stream",
          "name": "stdout",
          "text": [
            "var X domain:\n",
            "[(4, 0), (5, 0), (6, 0), (7, 0)]\n",
            "var Y domain:\n",
            "[(4, 1), (5, 1), (6, 1), (8, 1), (9, 1)]\n",
            "var Z domain:\n",
            "[(3, 1), (5, 1), (6, 1), (7, 1), (9, 0)]\n",
            "Start with an arbitrary assignment: {'X': 7, 'Y': 9, 'Z': 9}\n",
            "The var. X was selected randomly\n",
            "var X domain:\n",
            "[(4, 1), (5, 1), (6, 1), (7, 1)]\n",
            "The var. Y was selected randomly\n",
            "var Y domain:\n",
            "[(4, 1), (5, 2), (6, 2), (8, 2), (9, 1)]\n",
            "The var. Y was selected randomly\n",
            "var Y domain:\n",
            "[(4, 1), (5, 2), (6, 2), (8, 2), (9, 1)]\n",
            "The var. Y was selected randomly\n",
            "var Y domain:\n",
            "[(4, 1), (5, 2), (6, 2), (8, 2), (9, 1)]\n",
            "The var. Y was selected randomly\n",
            "var Y domain:\n",
            "[(4, 1), (5, 2), (6, 2), (8, 2), (9, 1)]\n",
            "The var. Y was selected randomly\n",
            "var Y domain:\n",
            "[(4, 1), (5, 2), (6, 2), (8, 2), (9, 1)]\n",
            "The var. Y was selected randomly\n",
            "var Y domain:\n",
            "[(4, 1), (5, 2), (6, 2), (8, 2), (9, 1)]\n",
            "The var. X was selected randomly\n",
            "var X domain:\n",
            "[(4, 1), (5, 1), (6, 1), (7, 1)]\n",
            "The var. Y was selected randomly\n",
            "var Y domain:\n",
            "[(4, 2), (5, 2), (6, 2), (8, 2), (9, 1)]\n",
            "The var. X was selected randomly\n",
            "var X domain:\n",
            "[(4, 1), (5, 1), (6, 1), (7, 1)]\n",
            "The var. Y was selected randomly\n",
            "var Y domain:\n",
            "[(4, 2), (5, 2), (6, 2), (8, 2), (9, 1)]\n",
            "The var. Y was selected randomly\n",
            "var Y domain:\n",
            "[(4, 2), (5, 2), (6, 2), (8, 2), (9, 1)]\n",
            "The var. Y was selected randomly\n",
            "var Y domain:\n",
            "[(4, 2), (5, 2), (6, 2), (8, 2), (9, 1)]\n",
            "The var. X was selected randomly\n",
            "var X domain:\n",
            "[(4, 1), (5, 1), (6, 1), (7, 1)]\n",
            "The var. Y was selected randomly\n",
            "var Y domain:\n",
            "[(4, 2), (5, 2), (6, 1), (8, 2), (9, 1)]\n",
            "The var. Y was selected randomly\n",
            "var Y domain:\n",
            "[(4, 2), (5, 2), (6, 1), (8, 2), (9, 1)]\n",
            "The var. Y was selected randomly\n",
            "var Y domain:\n",
            "[(4, 2), (5, 2), (6, 1), (8, 2), (9, 1)]\n",
            "The var. Z was selected randomly\n",
            "var Z domain:\n",
            "[(3, 1), (5, 1), (6, 0), (7, 1), (9, 1)]\n"
          ]
        }
      ]
    },
    {
      "cell_type": "code",
      "source": [
        "solution1"
      ],
      "metadata": {
        "colab": {
          "base_uri": "https://localhost:8080/"
        },
        "id": "M7Oo7WAsEI6a",
        "outputId": "db9ba49e-bb6b-45c3-97bd-61dc3d64d688"
      },
      "execution_count": null,
      "outputs": [
        {
          "output_type": "execute_result",
          "data": {
            "text/plain": [
              "{'X': 6, 'Y': 6, 'Z': 6}"
            ]
          },
          "metadata": {},
          "execution_count": 31
        }
      ]
    },
    {
      "cell_type": "markdown",
      "source": [
        "## Tasks -15 points"
      ],
      "metadata": {
        "id": "9bStlAIFbErR"
      }
    },
    {
      "cell_type": "markdown",
      "source": [
        "You need to build a schedule for 4 courses:\n",
        "1. *Practical Programming Methodology* (2 lec, 2 labs per week)\n",
        "2. *Algorithms I* (2 lec, 1 lab per week)\n",
        "3. *Operating Systems* (2 lec, 1 lab per week)\n",
        "4. *Introduction to File and Database Management* (2 lec, 1 lab per week)\n",
        "\n",
        "Courses could be on *Monday, Tuesday, Wednesday, Thursday* and *Friday*.\n",
        "\n",
        "Each day of week has 3 time slots (*class1, class2, class3*)\n",
        "\n",
        "There can't be 2 lectures on the same course on the same day, but there can be a lecture and a lab on the same course on the same day.\n",
        "\n",
        "For example:\n",
        "\n",
        "```\n",
        "Wrong case:\n",
        "* Mon, class1: Practical Programming Methodology - lec\n",
        "* Mon, class2: Algorithms I - lec\n",
        "* Mon, class3: Practical Programming Methodology - lec\n",
        "\n",
        "Correct case:\n",
        "* Mon, class1: Practical Programming Methodology - lec\n",
        "* Mon, class2: Algorithms I - lec\n",
        "* Mon, class3: Practical Programming Methodology - lab\n",
        "```\n",
        "\n",
        "There can't be 2 lectures on the same course on an adjacent day, but there can be a lecture and a lab on the same course on an adjacent day.\n",
        "```\n",
        "Wrong case:\n",
        "* Mon, class1: Practical Programming Methodology - lec\n",
        "* Mon, class2: Algorithms I - lec\n",
        "* Tue, class1: Practical Programming Methodology - lec\n",
        "\n",
        "Correct case:\n",
        "* Mon, class1: Practical Programming Methodology - lec\n",
        "* Mon, class2: Algorithms I - lec\n",
        "* Tue, class1: Practical Programming Methodology - lab\n",
        "```\n",
        "\n",
        "There can't be 2 labs on the same course on an adjacent day.\n",
        "```\n",
        "Wrong case:\n",
        "* Mon, class1: Practical Programming Methodology - lab\n",
        "* Mon, class2: Algorithms I - lec\n",
        "* Tue, class1: Practical Programming Methodology - lab\n",
        "```"
      ],
      "metadata": {
        "id": "cxaoZcARX0Cx"
      }
    },
    {
      "cell_type": "markdown",
      "source": [
        "Example of solution:\n"
      ],
      "metadata": {
        "id": "hmA5wcDibocO"
      }
    },
    {
      "cell_type": "markdown",
      "source": [
        "![image.png](data:image/png;base64,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)"
      ],
      "metadata": {
        "id": "RQVG77mnc_s_"
      }
    },
    {
      "cell_type": "markdown",
      "source": [
        "![image.png](data:image/png;base64,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)"
      ],
      "metadata": {
        "id": "qFpljPOIdApL"
      }
    },
    {
      "cell_type": "markdown",
      "source": [
        "**Tasks:**\n",
        "1. Formulate the problem (presented above) as a CSP problem. - 5 points\n",
        "2. Develop CSP implementation (based on CSP class) - 5 points\n",
        "3. Apply min_conflicts algorithm to solve the CSP. - 5 points"
      ],
      "metadata": {
        "id": "3yXjfimcbKK7"
      }
    }
  ]
}