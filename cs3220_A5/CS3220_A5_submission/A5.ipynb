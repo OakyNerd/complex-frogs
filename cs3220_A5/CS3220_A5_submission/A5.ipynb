{
 "cells": [
  {
   "cell_type": "code",
   "execution_count": null,
   "metadata": {},
   "outputs": [],
   "source": [
    "import os\n",
    "import sys\n",
    "%load_ext autoreload\n",
    "#Now, you can turn on auto-reloading\n",
    "%autoreload 2\n",
    "#from google.colab import drive\n",
    "#drive.mount('/content/drive')\n",
    "path = '/content/drive/MyDrive/Colab_Notebooks/cs3220_A5/CS3220_A5_submission/' #@param {type: \"string\"}\n",
    "sys.path.append(path)"
   ]
  },
  {
   "cell_type": "markdown",
   "metadata": {},
   "source": [
    "1."
   ]
  },
  {
   "cell_type": "code",
   "execution_count": null,
   "metadata": {},
   "outputs": [],
   "source": [
    "from mazeData import makeMaze\n",
    "n=10\n",
    "a=makeMaze(n)\n",
    "import matplotlib.pyplot as plt\n",
    "import matplotlib.patches as patches\n",
    "import seaborn as sns\n",
    "import numpy as np\n",
    "from matplotlib.colors import ListedColormap\n",
    "\n",
    "\n",
    "def draw_maze(maze):\n",
    "    fig, ax = plt.subplots()\n",
    "    colors = sns.color_palette('coolwarm', len(np.unique(maze)))\n",
    "    #print(colors)\n",
    "    cmap = ListedColormap(colors)\n",
    "    sns.heatmap(maze, cmap=cmap, annot=False, cbar=False)\n",
    "    for i in range(maze.shape[0]):\n",
    "      for j in range(maze.shape[1]):\n",
    "        rect=patches.Rectangle((j, i), 1, 1, fill=False, edgecolor='yellow', lw=2)\n",
    "        ax.add_patch(rect)\n",
    "        #plt.gca().add_patch(patches.Rectangle((j, i), 1, 1, fill=False, edgecolor='yellow', lw=2))\n",
    "        if i==0 and j==0:\n",
    "            rect=patches.Rectangle((j, i), 1, 1, fill=True, color='pink')\n",
    "            ax.add_patch(rect)\n",
    "        if i==maze.shape[0]-1 and j==maze.shape[1]-1:\n",
    "            rect=patches.Rectangle((j, i), 1, 1, fill=True, color='green')\n",
    "            ax.add_patch(rect)\n",
    "\n",
    "    plt.show()\n",
    "\n",
    "\n",
    "draw_maze(a)"
   ]
  }
 ],
 "metadata": {
  "language_info": {
   "name": "python"
  }
 },
 "nbformat": 4,
 "nbformat_minor": 2
}
