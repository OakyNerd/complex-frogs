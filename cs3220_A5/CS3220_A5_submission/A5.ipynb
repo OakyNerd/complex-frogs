{
 "cells": [
  {
   "cell_type": "code",
   "execution_count": 8,
   "metadata": {},
   "outputs": [
    {
     "name": "stdout",
     "output_type": "stream",
     "text": [
      "The autoreload extension is already loaded. To reload it, use:\n",
      "  %reload_ext autoreload\n"
     ]
    }
   ],
   "source": [
    "import os\n",
    "import sys\n",
    "%load_ext autoreload\n",
    "#Now, you can turn on auto-reloading\n",
    "%autoreload 2\n",
    "#from google.colab import drive\n",
    "#drive.mount('/content/drive')\n",
    "path = 'c:/Users/emili/Documents/GitHub/complex-frogs/cs3220_A5/cs3220_A5_tasks/src' #@param {type: \"string\"}\n",
    "sys.path.append(path)"
   ]
  },
  {
   "cell_type": "markdown",
   "metadata": {},
   "source": [
    "1."
   ]
  },
  {
   "cell_type": "code",
   "execution_count": 13,
   "metadata": {},
   "outputs": [
    {
     "data": {
      "image/png": "[encoded data removed]",
      "text/plain": [
       "<Figure size 640x480 with 1 Axes>"
      ]
     },
     "metadata": {},
     "output_type": "display_data"
    },
    {
     "ename": "ModuleNotFoundError",
     "evalue": "No module named 'mazeProblemSolvingAgentProDrawClass'",
     "output_type": "error",
     "traceback": [
      "\u001b[1;31m---------------------------------------------------------------------------\u001b[0m",
      "\u001b[1;31mModuleNotFoundError\u001b[0m                       Traceback (most recent call last)",
      "Cell \u001b[1;32mIn[13], line 42\u001b[0m\n\u001b[0;32m     40\u001b[0m \u001b[38;5;28;01mimport\u001b[39;00m \u001b[38;5;21;01mmath\u001b[39;00m\n\u001b[0;32m     41\u001b[0m \u001b[38;5;28;01mfrom\u001b[39;00m \u001b[38;5;21;01magentsPrograms\u001b[39;00m \u001b[38;5;28;01mimport\u001b[39;00m A_StarSearchAgentProgram\n\u001b[1;32m---> 42\u001b[0m \u001b[38;5;28;01mfrom\u001b[39;00m \u001b[38;5;21;01magents\u001b[39;00m \u001b[38;5;28;01mimport\u001b[39;00m ProblemSolvingMazeAgentAStar\n\u001b[0;32m     44\u001b[0m mazeAvailableActs\u001b[38;5;241m=\u001b[39mdefineMazeAvailableActions(a)\n\u001b[0;32m     45\u001b[0m maze\u001b[38;5;241m=\u001b[39mmakeMazeTransformationModel(mazeAvailableActs)\n",
      "File \u001b[1;32mc:\\Users/emili/Documents/GitHub/complex-frogs/cs3220_A5/cs3220_A5_tasks/src\\agents.py:4\u001b[0m\n\u001b[0;32m      2\u001b[0m \u001b[38;5;28;01mfrom\u001b[39;00m \u001b[38;5;21;01magentsPrograms\u001b[39;00m \u001b[38;5;28;01mimport\u001b[39;00m \u001b[38;5;241m*\u001b[39m\n\u001b[0;32m      3\u001b[0m \u001b[38;5;28;01mfrom\u001b[39;00m \u001b[38;5;21;01mmazeProblemSolvingAgentProClass\u001b[39;00m \u001b[38;5;28;01mimport\u001b[39;00m MazeProblemSolvingAgentPro\n\u001b[1;32m----> 4\u001b[0m \u001b[38;5;28;01mfrom\u001b[39;00m \u001b[38;5;21;01mmazeProblemSolvingAgentProDrawClass\u001b[39;00m \u001b[38;5;28;01mimport\u001b[39;00m MazeProblemSolvingAgentProDraw\n\u001b[0;32m      6\u001b[0m \u001b[38;5;28;01mdef\u001b[39;00m \u001b[38;5;21mProblemSolvingMazeAgentAStar\u001b[39m(initState,WorldGraph,goalState):\n\u001b[0;32m      7\u001b[0m     \u001b[38;5;28;01mreturn\u001b[39;00m MazeProblemSolvingAgentPro(initState,WorldGraph,goalState,A_StarSearchAgentProgram(math\u001b[38;5;241m.\u001b[39mdist))\n",
      "\u001b[1;31mModuleNotFoundError\u001b[0m: No module named 'mazeProblemSolvingAgentProDrawClass'"
     ]
    }
   ],
   "source": [
    "from mazeData import makeMaze\n",
    "n=10\n",
    "a=makeMaze(n)\n",
    "import matplotlib.pyplot as plt\n",
    "import matplotlib.patches as patches\n",
    "import seaborn as sns\n",
    "import numpy as np\n",
    "from matplotlib.colors import ListedColormap\n",
    "\n",
    "\n",
    "def draw_maze(maze):\n",
    "    fig, ax = plt.subplots()\n",
    "    colors = sns.color_palette('coolwarm', len(np.unique(maze)))\n",
    "    #print(colors)\n",
    "    cmap = ListedColormap(colors)\n",
    "    sns.heatmap(maze, cmap=cmap, annot=False, cbar=False)\n",
    "    for i in range(maze.shape[0]):\n",
    "      for j in range(maze.shape[1]):\n",
    "        rect=patches.Rectangle((j, i), 1, 1, fill=False, edgecolor='yellow', lw=2)\n",
    "        ax.add_patch(rect)\n",
    "        #plt.gca().add_patch(patches.Rectangle((j, i), 1, 1, fill=False, edgecolor='yellow', lw=2))\n",
    "        if i==0 and j==0:\n",
    "            rect=patches.Rectangle((j, i), 1, 1, fill=True, color='pink')\n",
    "            ax.add_patch(rect)\n",
    "        if i==maze.shape[0]-1 and j==maze.shape[1]-1:\n",
    "            rect=patches.Rectangle((j, i), 1, 1, fill=True, color='green')\n",
    "            ax.add_patch(rect)\n",
    "\n",
    "    plt.show()\n",
    "\n",
    "\n",
    "draw_maze(a)\n",
    "\n",
    "from mazeData import defineMazeAvailableActions\n",
    "from mazeData import makeMazeTransformationModel\n",
    "from mazeGraphClass import mazeGraph\n",
    "from mazeProblemClass import MazeProblem\n",
    "from mazeData import getFoodLocation\n",
    "from nodeClass import Node\n",
    "import math\n",
    "from agentsPrograms import A_StarSearchAgentProgram\n",
    "from agents import ProblemSolvingMazeAgentAStar\n",
    "\n",
    "mazeAvailableActs=defineMazeAvailableActions(a)\n",
    "maze=makeMazeTransformationModel(mazeAvailableActs)\n",
    "mazeWorldGraph=mazeGraph(maze)\n",
    "initState, goalState=(0,0),getFoodLocation(a)\n",
    "mp1=MazeProblem(initState,goalState,mazeWorldGraph)\n",
    "node = Node(mp1.initial)\n",
    "print(node.path_cost+round(math.dist(node.state, mp1.goal),2))\n",
    "f1=A_StarSearchAgentProgram(math.dist)\n",
    "AStar_MazeAgent=ProblemSolvingMazeAgentAStar(initState,mazeWorldGraph,goalState)\n",
    "AStar_MazeAgent.run()"
   ]
  }
 ],
 "metadata": {
  "kernelspec": {
   "display_name": "Python 3",
   "language": "python",
   "name": "python3"
  },
  "language_info": {
   "codemirror_mode": {
    "name": "ipython",
    "version": 3
   },
   "file_extension": ".py",
   "mimetype": "text/x-python",
   "name": "python",
   "nbconvert_exporter": "python",
   "pygments_lexer": "ipython3",
   "version": "3.13.0"
  }
 },
 "nbformat": 4,
 "nbformat_minor": 2
}
