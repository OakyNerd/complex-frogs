{
 "cells": [
  {
   "cell_type": "code",
   "execution_count": 1,
   "metadata": {},
   "outputs": [],
   "source": [
    "import os\n",
    "import sys\n",
    "%load_ext autoreload\n",
    "#Now, you can turn on auto-reloading\n",
    "%autoreload 2\n",
    "#from google.colab import drive\n",
    "#drive.mount('/content/drive')\n",
    "path = 'c:/Users/emili/Documents/complex-frogs/cs3220_A7/src' #@param {type: \"string\"}\n",
    "sys.path.append(path)"
   ]
  },
  {
   "cell_type": "markdown",
   "metadata": {},
   "source": [
    "# Building a schedule:"
   ]
  },
  {
   "cell_type": "markdown",
   "metadata": {},
   "source": [
    "Courses, domains, and constraints:\n",
    "1. *Practical Programming Methodology* (2 lec, 2 labs per week)\n",
    "2. *Algorithms I* (2 lec, 1 lab per week)\n",
    "3. *Operating Systems* (2 lec, 1 lab per week)\n",
    "4. *Introduction to File and Database Management* (2 lec, 1 lab per week)\n",
    "\n",
    "Courses could be on *Monday, Tuesday, Wednesday, Thursday* and *Friday*.\n",
    "\n",
    "Each day of week has 3 time slots (*class1, class2, class3*)\n",
    "\n",
    "There can't be 2 lectures on the same course on the same day, but there can be a lecture and a lab on the same course on the same day."
   ]
  },
  {
   "cell_type": "markdown",
   "metadata": {},
   "source": [
    "1. Formulating the problem as a CSP problem"
   ]
  },
  {
   "cell_type": "markdown",
   "metadata": {},
   "source": [
    "variables: mon, tue, wed, thur, fri\n",
    "(three time slots per day)\n",
    "\n",
    "domains: PPM_lec1, PPM_lec2, PPM_lab1, PPM_lab2,\n",
    "         A_lec1, A_lec2, A_lab,\n",
    "         OS_lec1, OS_lec2, OS_lab,\n",
    "         DB_lec1, DB_lec2, DB_lab,\n",
    "         free1, free2\n",
    "\n",
    "constraints: \n",
    "- two lectures from the same course can't be on the same day but a lecture and lab from the same course can\n",
    "- two lectures from the same course can't be on an adjacent day, but there can be a lecture and a lab on the same course on an adjacent days\n",
    "- two labs from the same course can't be on the same day\n",
    "- two labs from the same course can't be on adjacent days"
   ]
  },
  {
   "cell_type": "markdown",
   "metadata": {},
   "source": [
    "2. Develop CSP implementation based on CSP class"
   ]
  },
  {
   "cell_type": "code",
   "execution_count": 7,
   "metadata": {},
   "outputs": [
    {
     "data": {
      "text/plain": [
       "defaultdict(list,\n",
       "            {'mon': ['tue'],\n",
       "             'tue': ['mon', 'wed'],\n",
       "             'wed': ['tue', 'thur'],\n",
       "             'thur': ['wed', 'fri'],\n",
       "             'fri': ['thur']})"
      ]
     },
     "execution_count": 7,
     "metadata": {},
     "output_type": "execute_result"
    }
   ],
   "source": [
    "from utils import parse_neighbors\n",
    "neighbors = parse_neighbors('mon: tue; tue: wed; wed: thur; thur: fri')\n",
    "neighbors"
   ]
  },
  {
   "cell_type": "code",
   "execution_count": null,
   "metadata": {},
   "outputs": [
    {
     "data": {
      "text/plain": [
       "'lecture1'"
      ]
     },
     "execution_count": 9,
     "metadata": {},
     "output_type": "execute_result"
    }
   ],
   "source": [
    "courses = {\n",
    "    'PPM': {'lecture': ['lecture1', 'lecture2'], 'lab': ['lab1', 'lab2']},\n",
    "    'A': {'lecture': ['lecture1', 'lecture2'], 'lab': ['lab1']},\n",
    "    'OS': {'lecture': ['lecture1', 'lecture2'], 'lab': ['lab1']},\n",
    "    'DB': {'lecture': ['lecture1', 'lecture2'], 'lab': ['lab1']}\n",
    "}\n",
    "\n",
    "PPM_lec1 = courses['PPM']['lecture'][0]\n",
    "PPM_lec2 = courses['PPM']['lecture'][1]\n",
    "PPM_lab1 = courses['PPM']['lab'][0]\n",
    "PPM_lab2 = courses['PPM']['lab'][1]\n",
    "A_lec1 = courses['A']['lecture'][0]\n",
    "A_lec2 = courses['A']['lecture'][1]\n",
    "A_lab = courses['A']['lab'][0]\n",
    "OS_lec1 = courses['OS']['lecture'][0]\n",
    "OS_lec2 = courses['OS']['lecture'][1]\n",
    "OS_lab = courses['OS']['lab'][0]\n",
    "DB_lec1 = courses['DB']['lecture'][0]\n",
    "DB_lec2 = courses['DB']['lecture'][1]\n",
    "DB_lab = courses['DB']['lab'][0]\n",
    "\n",
    "domains = {'mon': [PPM_lec1, PPM_lec2, PPM_lab1, PPM_lab2,\n",
    "                    A_lec1, A_lec2, A_lab,\n",
    "                    OS_lec1, OS_lec2, OS_lab,\n",
    "                    DB_lec1, DB_lec2, DB_lab,\n",
    "                    'free1', 'free2'],\n",
    "           'tue': [PPM_lec1, PPM_lec2, PPM_lab1, PPM_lab2,\n",
    "                    A_lec1, A_lec2, A_lab,\n",
    "                    OS_lec1, OS_lec2, OS_lab,\n",
    "                    DB_lec1, DB_lec2, DB_lab,\n",
    "                    'free1', 'free2'],\n",
    "           'wed': [PPM_lec1, PPM_lec2, PPM_lab1, PPM_lab2,\n",
    "                    A_lec1, A_lec2, A_lab,\n",
    "                    OS_lec1, OS_lec2, OS_lab,\n",
    "                    DB_lec1, DB_lec2, DB_lab,\n",
    "                    'free1', 'free2'],\n",
    "           'thur': [PPM_lec1, PPM_lec2, PPM_lab1, PPM_lab2,\n",
    "                    A_lec1, A_lec2, A_lab,\n",
    "                    OS_lec1, OS_lec2, OS_lab,\n",
    "                    DB_lec1, DB_lec2, DB_lab,\n",
    "                    'free1', 'free2'],\n",
    "           'fri': [PPM_lec1, PPM_lec2, PPM_lab1, PPM_lab2,\n",
    "                    A_lec1, A_lec2, A_lab,\n",
    "                    OS_lec1, OS_lec2, OS_lab,\n",
    "                    DB_lec1, DB_lec2, DB_lab,\n",
    "                    'free1', 'free2']}\n",
    "\n"
   ]
  }
 ],
 "metadata": {
  "kernelspec": {
   "display_name": "Python 3",
   "language": "python",
   "name": "python3"
  },
  "language_info": {
   "codemirror_mode": {
    "name": "ipython",
    "version": 3
   },
   "file_extension": ".py",
   "mimetype": "text/x-python",
   "name": "python",
   "nbconvert_exporter": "python",
   "pygments_lexer": "ipython3",
   "version": "3.13.0"
  }
 },
 "nbformat": 4,
 "nbformat_minor": 2
}
